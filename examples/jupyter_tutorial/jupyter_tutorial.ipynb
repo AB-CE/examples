{
 "cells": [
  {
   "cell_type": "markdown",
   "metadata": {},
   "source": [
    "# Interactive jupyter / IPython notebook Tutorial"
   ]
  },
  {
   "cell_type": "markdown",
   "metadata": {},
   "source": [
    "This tutorial works on jupyter notebook. Please download examples from here: https://github.com/AB-CE/examples and load the jupyter_tutorial by changing in the `examples/jupyter_tutorial` folder and typing `jupyter notebook jupyter_tutorial.ipynb`. Then you can execute the notebook cell by cell and observe ABCE at work."
   ]
  },
  {
   "cell_type": "code",
   "execution_count": null,
   "metadata": {},
   "outputs": [],
   "source": [
    "import abcEconomics"
   ]
  },
  {
   "cell_type": "code",
   "execution_count": 2,
   "metadata": {},
   "outputs": [],
   "source": [
    "simulation = abcEconomics.Simulation()"
   ]
  },
  {
   "cell_type": "markdown",
   "metadata": {},
   "source": [
    "## Creating the Agent\n",
    "We create a simple agent and intialize it. An agent is an object that has propeties and does things. In python that is a class. We create an agent that has a name, knows the world size and can say his name. \n",
    "\n",
    "The agent needs to inherit from abce.Agents. *The `__init__` function should not be overwritten, instead create an `init` function*. The init function will be called during initialisation.\n",
    "The agents gets two parameters. All agents get the parameters we will specify in the next round. From agent_parameters the agents get only agent_parameters[id], where id is the number of the agent.\n",
    "Agents have for now only one function. They can say their name."
   ]
  },
  {
   "cell_type": "code",
   "execution_count": 3,
   "metadata": {},
   "outputs": [],
   "source": [
    "class Agent(abcEconomics.Agent):\n",
    "    def init(self, other_parameter, family_name):\n",
    "        self.family_name = family_name\n",
    "        self.other_parameter = other_parameter\n",
    "        print(other_parameter, family_name)\n",
    "        \n",
    "    def say(self):\n",
    "        print(\"hello I am %s my id %i and my group is '%s', it is the %i round\" % (self.family_name, self.id, self.group, self.round))"
   ]
  },
  {
   "cell_type": "markdown",
   "metadata": {},
   "source": [
    "From the abstract agent, we create four concrete agents."
   ]
  },
  {
   "cell_type": "code",
   "execution_count": 4,
   "metadata": {},
   "outputs": [
    {
     "name": "stdout",
     "output_type": "stream",
     "text": [
      "30 fred\n",
      "30 astaire\n",
      "30 altair\n",
      "30 deurich\n"
     ]
    }
   ],
   "source": [
    "agents = simulation.build_agents(Agent, 'agent',\n",
    "                                 other_parameter=30,\n",
    "                                 agent_parameters=[{'family_name': 'fred'}, \n",
    "                                                   {'family_name': 'astaire'}, \n",
    "                                                   {'family_name': 'altair'}, \n",
    "                                                   {'family_name': 'deurich'}])"
   ]
  },
  {
   "cell_type": "markdown",
   "metadata": {},
   "source": [
    "`agents` allows you to call each agents in the agents group. Each agent in this group has a group name, which is 'agent' and an id. Further we give each of the agents a parameter a family_name.\n",
    "We can now run the simulation and let all agents say their name:"
   ]
  },
  {
   "cell_type": "code",
   "execution_count": 5,
   "metadata": {},
   "outputs": [
    {
     "name": "stdout",
     "output_type": "stream",
     "text": [
      "\r",
      "Round0\n",
      "hello I am fred my id 0 and my group is 'agent', it is the 0 round\n",
      "hello I am deurich my id 3 and my group is 'agent', it is the 0 round\n",
      "hello I am astaire my id 1 and my group is 'agent', it is the 0 round\n",
      "hello I am altair my id 2 and my group is 'agent', it is the 0 round\n",
      "\r",
      "Round1\n",
      "hello I am fred my id 0 and my group is 'agent', it is the 1 round\n",
      "hello I am deurich my id 3 and my group is 'agent', it is the 1 round\n",
      "hello I am astaire my id 1 and my group is 'agent', it is the 1 round\n",
      "hello I am altair my id 2 and my group is 'agent', it is the 1 round\n",
      "\r",
      "Round2\n",
      "hello I am fred my id 0 and my group is 'agent', it is the 2 round\n",
      "hello I am deurich my id 3 and my group is 'agent', it is the 2 round\n",
      "hello I am astaire my id 1 and my group is 'agent', it is the 2 round\n",
      "hello I am altair my id 2 and my group is 'agent', it is the 2 round\n",
      "\r",
      "Round3\n",
      "hello I am fred my id 0 and my group is 'agent', it is the 3 round\n",
      "hello I am deurich my id 3 and my group is 'agent', it is the 3 round\n",
      "hello I am astaire my id 1 and my group is 'agent', it is the 3 round\n",
      "hello I am altair my id 2 and my group is 'agent', it is the 3 round\n",
      "\r",
      "Round4\n",
      "hello I am fred my id 0 and my group is 'agent', it is the 4 round\n",
      "hello I am deurich my id 3 and my group is 'agent', it is the 4 round\n",
      "hello I am astaire my id 1 and my group is 'agent', it is the 4 round\n",
      "hello I am altair my id 2 and my group is 'agent', it is the 4 round\n"
     ]
    }
   ],
   "source": [
    "for r in range(5):\n",
    "    simulation.time = r\n",
    "    agents.say()"
   ]
  },
  {
   "cell_type": "markdown",
   "metadata": {},
   "source": [
    "It is necessary to tell the simulation when a new round starts. The parameter can be any representation of time."
   ]
  },
  {
   "cell_type": "markdown",
   "metadata": {},
   "source": [
    "## Giving a Good\n",
    "ABCE provide goods. Goods are things that can be given, sold or transformed.\n",
    "We create 5 agents, the first one has a balls the agents pass the ball around."
   ]
  },
  {
   "cell_type": "code",
   "execution_count": 6,
   "metadata": {},
   "outputs": [],
   "source": [
    "class Kid(abcEconomics.Agent):\n",
    "    def init(self, num_kids):\n",
    "        self.num_kids = num_kids\n",
    "        if self.id == 0:\n",
    "            self.create('ball', 1)\n",
    "        \n",
    "    def whether_I_have_the_ball(self):\n",
    "        if self['ball'] > 0:\n",
    "            print('*', end=\"\", flush=True)\n",
    "        else:\n",
    "            print('.', end=\"\", flush=True)\n",
    "            \n",
    "    def give_the_ball_to_the_next_kid(self):\n",
    "        next_kid = (self.id + 1) % self.num_kids  # the id of the next kid, if I am the last the first kid\n",
    "        if self['ball'] >= 1:\n",
    "            self.give(('kid', next_kid), good='ball', quantity=1)\n",
    "            \n",
    "    \n",
    "        "
   ]
  },
  {
   "cell_type": "markdown",
   "metadata": {},
   "source": [
    "self.create, creates an object. self.possession, checks how much of one object an agent has. self.give, gives an object to another agent, specied by its group name and its id."
   ]
  },
  {
   "cell_type": "code",
   "execution_count": 7,
   "metadata": {},
   "outputs": [],
   "source": [
    "num_kids = 5"
   ]
  },
  {
   "cell_type": "code",
   "execution_count": 8,
   "metadata": {},
   "outputs": [],
   "source": [
    "simulation = abcEconomics.Simulation(name='ipythonsimulation', processes=1)"
   ]
  },
  {
   "cell_type": "code",
   "execution_count": 9,
   "metadata": {},
   "outputs": [],
   "source": [
    "kids = simulation.build_agents(Kid, 'kid', number=num_kids,\n",
    "                               num_kids=num_kids) \n",
    "                            "
   ]
  },
  {
   "cell_type": "markdown",
   "metadata": {},
   "source": [
    "When agent_parameters is not specified the numer of agents to be created needs to be spezified"
   ]
  },
  {
   "cell_type": "code",
   "execution_count": 10,
   "metadata": {},
   "outputs": [
    {
     "name": "stdout",
     "output_type": "stream",
     "text": [
      "Round0\n",
      "*....\n",
      "Round1\n",
      ".*...\n",
      "Round2\n",
      "...*.\n",
      "Round3\n",
      "....*\n",
      "Round4\n",
      "..*..\n",
      "Round5\n",
      "*....\n",
      "Round6\n",
      ".*...\n"
     ]
    }
   ],
   "source": [
    "for r in range(7):\n",
    "    simulation.time = r\n",
    "    kids.whether_I_have_the_ball()\n",
    "    print()\n",
    "    kids.give_the_ball_to_the_next_kid()"
   ]
  },
  {
   "cell_type": "markdown",
   "metadata": {},
   "source": [
    "## Trade"
   ]
  },
  {
   "cell_type": "code",
   "execution_count": 11,
   "metadata": {},
   "outputs": [],
   "source": [
    "from random import randrange"
   ]
  },
  {
   "cell_type": "markdown",
   "metadata": {},
   "source": [
    "Well in every school yard we have a drug dealer."
   ]
  },
  {
   "cell_type": "code",
   "execution_count": 12,
   "metadata": {},
   "outputs": [],
   "source": [
    "class NewKid(abcEconomics.Agent):\n",
    "    def init(self, num_dealers):\n",
    "        self.num_dealers = num_dealers\n",
    "        self.create('money', 100)  # don't we all wish you'd this function in real live?\n",
    "        \n",
    "    def buy_drugs(self):\n",
    "        drug_dealer_id = randrange(self.num_dealers)\n",
    "        self.make_bid(('drug_dealer', drug_dealer_id), good='drugs', quantity=1, price=10)\n",
    "    \n",
    "    def print_possessions(self):\n",
    "        print('    ' + self.group + str(dict(self.possessions())))\n",
    "        \n",
    "    "
   ]
  },
  {
   "cell_type": "markdown",
   "metadata": {},
   "source": [
    "The new kids, approach a random drug dealer and offer him 10 bucks."
   ]
  },
  {
   "cell_type": "code",
   "execution_count": 13,
   "metadata": {},
   "outputs": [],
   "source": [
    "class DrugDealer(abcEconomics.Agent):\n",
    "    def init(self):\n",
    "        self.create('drugs', 1)\n",
    "        \n",
    "    def sell_to_customers(self):\n",
    "        for offer in self.get_offers('drugs'):\n",
    "            if offer.price >= 10 and self['drugs'] > 1:\n",
    "                self.accept(offer)\n",
    "    \n",
    "    def print_possessions(self):\n",
    "        print('    ' + self.group + str(dict(self.possessions())))"
   ]
  },
  {
   "cell_type": "markdown",
   "metadata": {},
   "source": [
    "Drug dealer look at all the sell offers they get and decide to sell only to those kids that are willing to give them at least 10 dollars."
   ]
  },
  {
   "cell_type": "code",
   "execution_count": 14,
   "metadata": {},
   "outputs": [],
   "source": [
    "num_dealers = 1"
   ]
  },
  {
   "cell_type": "code",
   "execution_count": 15,
   "metadata": {},
   "outputs": [],
   "source": [
    "simulation = abcEconomics.Simulation(name='school_yard', processes=1)"
   ]
  },
  {
   "cell_type": "code",
   "execution_count": 16,
   "metadata": {},
   "outputs": [],
   "source": [
    "drug_dealers = simulation.build_agents(DrugDealer, 'drug_dealer', number=num_dealers)"
   ]
  },
  {
   "cell_type": "code",
   "execution_count": 17,
   "metadata": {},
   "outputs": [],
   "source": [
    "customers = simulation.build_agents(NewKid, 'customer', number=1, \n",
    "                                   num_dealers=num_dealers)"
   ]
  },
  {
   "cell_type": "markdown",
   "metadata": {},
   "source": [
    "builds 1 drug dealer and one customer."
   ]
  },
  {
   "cell_type": "code",
   "execution_count": 18,
   "metadata": {},
   "outputs": [],
   "source": [
    "kids = drug_dealers + customers"
   ]
  },
  {
   "cell_type": "markdown",
   "metadata": {},
   "source": [
    "Groups of agents can be merged to 'super' groups. We will print the amount of drugs and money all kids have for each of the two kids"
   ]
  },
  {
   "cell_type": "code",
   "execution_count": 19,
   "metadata": {},
   "outputs": [
    {
     "name": "stdout",
     "output_type": "stream",
     "text": [
      "\r",
      "Round0\n",
      "Customer offers 10 dollar:\n",
      "    drug_dealer{'drugs': 1.0}\n",
      "    customer{'money': 90.0}\n",
      "Drug Dealer accepts or rejects the offer:\n",
      "    drug_dealer{'drugs': 1.0}\n",
      "    customer{'money': 90.0}\n",
      "\n",
      "\r",
      "Round1\n",
      "Customer offers 10 dollar:\n",
      "    drug_dealer{'drugs': 1.0}\n",
      "    customer{'money': 80.0}\n",
      "Drug Dealer accepts or rejects the offer:\n",
      "    drug_dealer{'drugs': 1.0}\n",
      "    customer{'money': 80.0}\n",
      "\n"
     ]
    }
   ],
   "source": [
    "for r in range(2):\n",
    "    simulation.time = r\n",
    "    print('Customer offers 10 dollar:')\n",
    "    customers.buy_drugs()\n",
    "    kids.print_possessions()\n",
    "    print('Drug Dealer accepts or rejects the offer:')\n",
    "    drug_dealers.sell_to_customers()\n",
    "    kids.print_possessions()\n",
    "    print()"
   ]
  },
  {
   "cell_type": "markdown",
   "metadata": {},
   "source": [
    "When looking at round one one can see that after the customer offered 10 dollars, the 10 dollars are not available to him util the deal has either been accepted or rejected. After the drug dealer accepts the offer in the 0 round. The money is transfered to the drug dealer and the drugs to the customer.\n",
    "\n",
    "In round 1, where the drug dealer runs out of drugs the 10 dollars go back to the customer.\n"
   ]
  },
  {
   "cell_type": "markdown",
   "metadata": {},
   "source": [
    "## Lets capture data\n"
   ]
  },
  {
   "cell_type": "markdown",
   "metadata": {},
   "source": [
    "There are three ways of capturing data. `aggregate` and `panel` collect data from a specified group at a specified point of time. This has the advantage that there is no logging code in the agent class. `self.log('name', value)` saves a value under a certain name."
   ]
  },
  {
   "cell_type": "code",
   "execution_count": 20,
   "metadata": {},
   "outputs": [],
   "source": [
    "from math import sin\n",
    "\n",
    "class DataDealer(abcEconomics.Agent):\n",
    "    def init(self):\n",
    "        self.count = 0\n",
    "        self.create('money', 0)\n",
    "\n",
    "    def counting(self):\n",
    "        self.count += 1\n",
    "        self.curve = sin(self.count / 100)\n",
    "        self.create('money', self.curve * self.id)\n",
    "        \n",
    "        "
   ]
  },
  {
   "cell_type": "code",
   "execution_count": 21,
   "metadata": {},
   "outputs": [],
   "source": [
    "simulation = abcEconomics.Simulation(name='gatherdata', processes=1)"
   ]
  },
  {
   "cell_type": "markdown",
   "metadata": {},
   "source": [
    "It is specified which agents group collects which variables and possessions."
   ]
  },
  {
   "cell_type": "code",
   "execution_count": 22,
   "metadata": {},
   "outputs": [],
   "source": [
    "datadealers = simulation.build_agents(DataDealer, 'datadealer', number=10)"
   ]
  },
  {
   "cell_type": "markdown",
   "metadata": {},
   "source": [
    "Every round the groups need to be instructed to collect the according data. **simulation.finalize()** must be called after the simulation, to write the data! Otherwise the program hangs."
   ]
  },
  {
   "cell_type": "code",
   "execution_count": 23,
   "metadata": {},
   "outputs": [
    {
     "name": "stdout",
     "output_type": "stream",
     "text": [
      "\r",
      "Round0\n",
      "\r",
      "Round1\n",
      "\r",
      "Round2\n",
      "\r",
      "Round3\n",
      "\r",
      "Round4\n",
      "\r",
      "Round5\n",
      "\r",
      "Round6\n",
      "\r",
      "Round7\n",
      "\r",
      "Round8\n",
      "\r",
      "Round9\n",
      "\r",
      "Round10\n",
      "\r",
      "Round11\n",
      "\r",
      "Round12\n",
      "\r",
      "Round13\n",
      "\r",
      "Round14\n",
      "\r",
      "Round15\n",
      "\r",
      "Round16\n",
      "\r",
      "Round17\n",
      "\r",
      "Round18\n",
      "\r",
      "Round19\n",
      "\r",
      "Round20\n",
      "\r",
      "Round21\n",
      "\r",
      "Round22\n",
      "\r",
      "Round23\n",
      "\r",
      "Round24\n",
      "\r",
      "Round25\n",
      "\r",
      "Round26\n",
      "\r",
      "Round27\n",
      "\r",
      "Round28\n",
      "\r",
      "Round29\n",
      "\r",
      "Round30\n",
      "\r",
      "Round31\n",
      "\r",
      "Round32\n",
      "\r",
      "Round33\n",
      "\r",
      "Round34\n",
      "\r",
      "Round35\n",
      "\r",
      "Round36\n",
      "\r",
      "Round37\n",
      "\r",
      "Round38\n",
      "\r",
      "Round39\n",
      "\r",
      "Round40\n",
      "\r",
      "Round41\n",
      "\r",
      "Round42\n",
      "\r",
      "Round43\n",
      "\r",
      "Round44\n",
      "\r",
      "Round45\n",
      "\r",
      "Round46\n",
      "\r",
      "Round47\n",
      "\r",
      "Round48\n",
      "\r",
      "Round49\n",
      "\r",
      "Round50\n",
      "\r",
      "Round51\n",
      "\r",
      "Round52\n",
      "\r",
      "Round53\n",
      "\r",
      "Round54\n",
      "\r",
      "Round55\n",
      "\r",
      "Round56\n",
      "\r",
      "Round57\n",
      "\r",
      "Round58\n",
      "\r",
      "Round59\n",
      "\r",
      "Round60\n",
      "\r",
      "Round61\n",
      "\r",
      "Round62\n",
      "\r",
      "Round63\n",
      "\r",
      "Round64\n",
      "\r",
      "Round65\n",
      "\r",
      "Round66\n",
      "\r",
      "Round67\n",
      "\r",
      "Round68\n",
      "\r",
      "Round69\n",
      "\r",
      "Round70\n",
      "\r",
      "Round71\n",
      "\r",
      "Round72\n",
      "\r",
      "Round73\n",
      "\r",
      "Round74\n",
      "\r",
      "Round75\n",
      "\r",
      "Round76\n",
      "\r",
      "Round77\n",
      "\r",
      "Round78\n",
      "\r",
      "Round79\n",
      "\r",
      "Round80\n",
      "\r",
      "Round81\n",
      "\r",
      "Round82\n",
      "\r",
      "Round83\n",
      "\r",
      "Round84\n",
      "\r",
      "Round85\n",
      "\r",
      "Round86\n",
      "\r",
      "Round87\n",
      "\r",
      "Round88\n",
      "\r",
      "Round89\n",
      "\r",
      "Round90\n",
      "\r",
      "Round91\n",
      "\r",
      "Round92\n",
      "\r",
      "Round93\n",
      "\r",
      "Round94\n",
      "\r",
      "Round95\n",
      "\r",
      "Round96\n",
      "\r",
      "Round97\n",
      "\r",
      "Round98\n",
      "\r",
      "Round99\n",
      "\n",
      "time only simulation   1.53\n",
      "time with data   1.69\n"
     ]
    }
   ],
   "source": [
    "\n",
    "for r in range(100):\n",
    "    simulation.time = r\n",
    "    datadealers.counting()\n",
    "    datadealers.agg_log(variables=['count'])\n",
    "    datadealers.panel_log(goods=['money'], variables=['curve'])\n",
    "simulation.finalize()    \n",
    "        "
   ]
  },
  {
   "cell_type": "markdown",
   "metadata": {},
   "source": [
    "We can find the directory of the simulation data by using the `simulation.path` property"
   ]
  },
  {
   "cell_type": "code",
   "execution_count": 24,
   "metadata": {},
   "outputs": [
    {
     "name": "stdout",
     "output_type": "stream",
     "text": [
      "/Users/taghawi/Dropbox/workspace/abce_examples/examples/jupyter_tutorial/result/gatherdata_2018-05-11_13-00\n"
     ]
    }
   ],
   "source": [
    "print(simulation.path)"
   ]
  },
  {
   "cell_type": "markdown",
   "metadata": {},
   "source": [
    "In that directory are the data files and a describtion.txt"
   ]
  },
  {
   "cell_type": "code",
   "execution_count": 25,
   "metadata": {},
   "outputs": [
    {
     "data": {
      "text/plain": [
       "['panel_datadealer.csv',\n",
       " 'aggregated_datadealer.csv',\n",
       " 'aggregate_datadealer.csv',\n",
       " 'description.txt']"
      ]
     },
     "execution_count": 25,
     "metadata": {},
     "output_type": "execute_result"
    }
   ],
   "source": [
    "import os\n",
    "os.listdir(simulation.path)"
   ]
  },
  {
   "cell_type": "markdown",
   "metadata": {},
   "source": [
    "## Using statistical software"
   ]
  },
  {
   "cell_type": "code",
   "execution_count": 26,
   "metadata": {},
   "outputs": [],
   "source": [
    "import pandas as pd"
   ]
  },
  {
   "cell_type": "code",
   "execution_count": 27,
   "metadata": {},
   "outputs": [
    {
     "ename": "ModuleNotFoundError",
     "evalue": "No module named 'matplotlib'",
     "output_type": "error",
     "traceback": [
      "Traceback \u001b[0;36m(most recent call last)\u001b[0m:\n",
      "  File \u001b[1;32m\"<ipython-input-27-9e3324102725>\"\u001b[0m, line \u001b[1;32m1\u001b[0m, in \u001b[1;35m<module>\u001b[0m\n    get_ipython().run_line_magic('matplotlib', 'inline')\n",
      "  File \u001b[1;32m\"/Users/taghawi/anaconda3/envs/abcEcon/lib/python3.6/site-packages/IPython/core/interactiveshell.py\"\u001b[0m, line \u001b[1;32m2131\u001b[0m, in \u001b[1;35mrun_line_magic\u001b[0m\n    result = fn(*args,**kwargs)\n",
      "  File \u001b[1;32m\"<decorator-gen-107>\"\u001b[0m, line \u001b[1;32m2\u001b[0m, in \u001b[1;35mmatplotlib\u001b[0m\n",
      "  File \u001b[1;32m\"/Users/taghawi/anaconda3/envs/abcEcon/lib/python3.6/site-packages/IPython/core/magic.py\"\u001b[0m, line \u001b[1;32m187\u001b[0m, in \u001b[1;35m<lambda>\u001b[0m\n    call = lambda f, *a, **k: f(*a, **k)\n",
      "  File \u001b[1;32m\"/Users/taghawi/anaconda3/envs/abcEcon/lib/python3.6/site-packages/IPython/core/magics/pylab.py\"\u001b[0m, line \u001b[1;32m99\u001b[0m, in \u001b[1;35mmatplotlib\u001b[0m\n    gui, backend = self.shell.enable_matplotlib(args.gui)\n",
      "  File \u001b[1;32m\"/Users/taghawi/anaconda3/envs/abcEcon/lib/python3.6/site-packages/IPython/core/interactiveshell.py\"\u001b[0m, line \u001b[1;32m3039\u001b[0m, in \u001b[1;35menable_matplotlib\u001b[0m\n    gui, backend = pt.find_gui_and_backend(gui, self.pylab_gui_select)\n",
      "\u001b[0;36m  File \u001b[0;32m\"/Users/taghawi/anaconda3/envs/abcEcon/lib/python3.6/site-packages/IPython/core/pylabtools.py\"\u001b[0;36m, line \u001b[0;32m273\u001b[0;36m, in \u001b[0;35mfind_gui_and_backend\u001b[0;36m\u001b[0m\n\u001b[0;31m    import matplotlib\u001b[0m\n",
      "\u001b[0;31mModuleNotFoundError\u001b[0m\u001b[0;31m:\u001b[0m No module named 'matplotlib'\n"
     ]
    }
   ],
   "source": [
    "%matplotlib inline\n"
   ]
  },
  {
   "cell_type": "code",
   "execution_count": 28,
   "metadata": {},
   "outputs": [],
   "source": [
    "df = pd.read_csv(simulation.path + '/panel_datadealer.csv')"
   ]
  },
  {
   "cell_type": "code",
   "execution_count": 29,
   "metadata": {},
   "outputs": [
    {
     "data": {
      "text/html": [
       "<div>\n",
       "<style scoped>\n",
       "    .dataframe tbody tr th:only-of-type {\n",
       "        vertical-align: middle;\n",
       "    }\n",
       "\n",
       "    .dataframe tbody tr th {\n",
       "        vertical-align: top;\n",
       "    }\n",
       "\n",
       "    .dataframe thead th {\n",
       "        text-align: right;\n",
       "    }\n",
       "</style>\n",
       "<table border=\"1\" class=\"dataframe\">\n",
       "  <thead>\n",
       "    <tr style=\"text-align: right;\">\n",
       "      <th></th>\n",
       "      <th>index</th>\n",
       "      <th>curve</th>\n",
       "      <th>money</th>\n",
       "      <th>round</th>\n",
       "      <th>name</th>\n",
       "    </tr>\n",
       "  </thead>\n",
       "  <tbody>\n",
       "    <tr>\n",
       "      <th>0</th>\n",
       "      <td>1</td>\n",
       "      <td>0.010000</td>\n",
       "      <td>0.039999</td>\n",
       "      <td>0</td>\n",
       "      <td>datadealer4</td>\n",
       "    </tr>\n",
       "    <tr>\n",
       "      <th>1</th>\n",
       "      <td>2</td>\n",
       "      <td>0.010000</td>\n",
       "      <td>0.049999</td>\n",
       "      <td>0</td>\n",
       "      <td>datadealer5</td>\n",
       "    </tr>\n",
       "    <tr>\n",
       "      <th>2</th>\n",
       "      <td>3</td>\n",
       "      <td>0.010000</td>\n",
       "      <td>0.079999</td>\n",
       "      <td>0</td>\n",
       "      <td>datadealer8</td>\n",
       "    </tr>\n",
       "    <tr>\n",
       "      <th>3</th>\n",
       "      <td>4</td>\n",
       "      <td>0.010000</td>\n",
       "      <td>0.020000</td>\n",
       "      <td>0</td>\n",
       "      <td>datadealer2</td>\n",
       "    </tr>\n",
       "    <tr>\n",
       "      <th>4</th>\n",
       "      <td>5</td>\n",
       "      <td>0.010000</td>\n",
       "      <td>0.089999</td>\n",
       "      <td>0</td>\n",
       "      <td>datadealer9</td>\n",
       "    </tr>\n",
       "    <tr>\n",
       "      <th>5</th>\n",
       "      <td>6</td>\n",
       "      <td>0.010000</td>\n",
       "      <td>0.030000</td>\n",
       "      <td>0</td>\n",
       "      <td>datadealer3</td>\n",
       "    </tr>\n",
       "    <tr>\n",
       "      <th>6</th>\n",
       "      <td>7</td>\n",
       "      <td>0.010000</td>\n",
       "      <td>0.000000</td>\n",
       "      <td>0</td>\n",
       "      <td>datadealer0</td>\n",
       "    </tr>\n",
       "    <tr>\n",
       "      <th>7</th>\n",
       "      <td>8</td>\n",
       "      <td>0.010000</td>\n",
       "      <td>0.010000</td>\n",
       "      <td>0</td>\n",
       "      <td>datadealer1</td>\n",
       "    </tr>\n",
       "    <tr>\n",
       "      <th>8</th>\n",
       "      <td>9</td>\n",
       "      <td>0.010000</td>\n",
       "      <td>0.059999</td>\n",
       "      <td>0</td>\n",
       "      <td>datadealer6</td>\n",
       "    </tr>\n",
       "    <tr>\n",
       "      <th>9</th>\n",
       "      <td>10</td>\n",
       "      <td>0.010000</td>\n",
       "      <td>0.069999</td>\n",
       "      <td>0</td>\n",
       "      <td>datadealer7</td>\n",
       "    </tr>\n",
       "    <tr>\n",
       "      <th>10</th>\n",
       "      <td>11</td>\n",
       "      <td>0.019999</td>\n",
       "      <td>0.119994</td>\n",
       "      <td>1</td>\n",
       "      <td>datadealer4</td>\n",
       "    </tr>\n",
       "    <tr>\n",
       "      <th>11</th>\n",
       "      <td>12</td>\n",
       "      <td>0.019999</td>\n",
       "      <td>0.149993</td>\n",
       "      <td>1</td>\n",
       "      <td>datadealer5</td>\n",
       "    </tr>\n",
       "    <tr>\n",
       "      <th>12</th>\n",
       "      <td>13</td>\n",
       "      <td>0.019999</td>\n",
       "      <td>0.239988</td>\n",
       "      <td>1</td>\n",
       "      <td>datadealer8</td>\n",
       "    </tr>\n",
       "    <tr>\n",
       "      <th>13</th>\n",
       "      <td>14</td>\n",
       "      <td>0.019999</td>\n",
       "      <td>0.059997</td>\n",
       "      <td>1</td>\n",
       "      <td>datadealer2</td>\n",
       "    </tr>\n",
       "    <tr>\n",
       "      <th>14</th>\n",
       "      <td>15</td>\n",
       "      <td>0.019999</td>\n",
       "      <td>0.269987</td>\n",
       "      <td>1</td>\n",
       "      <td>datadealer9</td>\n",
       "    </tr>\n",
       "    <tr>\n",
       "      <th>15</th>\n",
       "      <td>16</td>\n",
       "      <td>0.019999</td>\n",
       "      <td>0.089996</td>\n",
       "      <td>1</td>\n",
       "      <td>datadealer3</td>\n",
       "    </tr>\n",
       "    <tr>\n",
       "      <th>16</th>\n",
       "      <td>17</td>\n",
       "      <td>0.019999</td>\n",
       "      <td>0.000000</td>\n",
       "      <td>1</td>\n",
       "      <td>datadealer0</td>\n",
       "    </tr>\n",
       "    <tr>\n",
       "      <th>17</th>\n",
       "      <td>18</td>\n",
       "      <td>0.019999</td>\n",
       "      <td>0.029999</td>\n",
       "      <td>1</td>\n",
       "      <td>datadealer1</td>\n",
       "    </tr>\n",
       "    <tr>\n",
       "      <th>18</th>\n",
       "      <td>19</td>\n",
       "      <td>0.019999</td>\n",
       "      <td>0.179991</td>\n",
       "      <td>1</td>\n",
       "      <td>datadealer6</td>\n",
       "    </tr>\n",
       "    <tr>\n",
       "      <th>19</th>\n",
       "      <td>20</td>\n",
       "      <td>0.019999</td>\n",
       "      <td>0.209990</td>\n",
       "      <td>1</td>\n",
       "      <td>datadealer7</td>\n",
       "    </tr>\n",
       "  </tbody>\n",
       "</table>\n",
       "</div>"
      ],
      "text/plain": [
       "    index     curve     money  round         name\n",
       "0       1  0.010000  0.039999      0  datadealer4\n",
       "1       2  0.010000  0.049999      0  datadealer5\n",
       "2       3  0.010000  0.079999      0  datadealer8\n",
       "3       4  0.010000  0.020000      0  datadealer2\n",
       "4       5  0.010000  0.089999      0  datadealer9\n",
       "5       6  0.010000  0.030000      0  datadealer3\n",
       "6       7  0.010000  0.000000      0  datadealer0\n",
       "7       8  0.010000  0.010000      0  datadealer1\n",
       "8       9  0.010000  0.059999      0  datadealer6\n",
       "9      10  0.010000  0.069999      0  datadealer7\n",
       "10     11  0.019999  0.119994      1  datadealer4\n",
       "11     12  0.019999  0.149993      1  datadealer5\n",
       "12     13  0.019999  0.239988      1  datadealer8\n",
       "13     14  0.019999  0.059997      1  datadealer2\n",
       "14     15  0.019999  0.269987      1  datadealer9\n",
       "15     16  0.019999  0.089996      1  datadealer3\n",
       "16     17  0.019999  0.000000      1  datadealer0\n",
       "17     18  0.019999  0.029999      1  datadealer1\n",
       "18     19  0.019999  0.179991      1  datadealer6\n",
       "19     20  0.019999  0.209990      1  datadealer7"
      ]
     },
     "execution_count": 29,
     "metadata": {},
     "output_type": "execute_result"
    }
   ],
   "source": [
    "df.head(20)"
   ]
  },
  {
   "cell_type": "code",
   "execution_count": 32,
   "metadata": {},
   "outputs": [],
   "source": [
    "df = df.pivot(index='round', columns='name', values='money')"
   ]
  },
  {
   "cell_type": "code",
   "execution_count": 33,
   "metadata": {},
   "outputs": [
    {
     "ename": "NameError",
     "evalue": "name '_converter' is not defined",
     "output_type": "error",
     "traceback": [
      "Traceback \u001b[0;36m(most recent call last)\u001b[0m:\n",
      "  File \u001b[1;32m\"<ipython-input-33-848b80e64df8>\"\u001b[0m, line \u001b[1;32m1\u001b[0m, in \u001b[1;35m<module>\u001b[0m\n    df.plot()\n",
      "  File \u001b[1;32m\"/Users/taghawi/anaconda3/envs/abcEcon/lib/python3.6/site-packages/pandas/plotting/_core.py\"\u001b[0m, line \u001b[1;32m2677\u001b[0m, in \u001b[1;35m__call__\u001b[0m\n    sort_columns=sort_columns, **kwds)\n",
      "  File \u001b[1;32m\"/Users/taghawi/anaconda3/envs/abcEcon/lib/python3.6/site-packages/pandas/plotting/_core.py\"\u001b[0m, line \u001b[1;32m1902\u001b[0m, in \u001b[1;35mplot_frame\u001b[0m\n    **kwds)\n",
      "  File \u001b[1;32m\"/Users/taghawi/anaconda3/envs/abcEcon/lib/python3.6/site-packages/pandas/plotting/_core.py\"\u001b[0m, line \u001b[1;32m1727\u001b[0m, in \u001b[1;35m_plot\u001b[0m\n    plot_obj = klass(data, subplots=subplots, ax=ax, kind=kind, **kwds)\n",
      "  File \u001b[1;32m\"/Users/taghawi/anaconda3/envs/abcEcon/lib/python3.6/site-packages/pandas/plotting/_core.py\"\u001b[0m, line \u001b[1;32m931\u001b[0m, in \u001b[1;35m__init__\u001b[0m\n    MPLPlot.__init__(self, data, **kwargs)\n",
      "\u001b[0;36m  File \u001b[0;32m\"/Users/taghawi/anaconda3/envs/abcEcon/lib/python3.6/site-packages/pandas/plotting/_core.py\"\u001b[0;36m, line \u001b[0;32m100\u001b[0;36m, in \u001b[0;35m__init__\u001b[0;36m\u001b[0m\n\u001b[0;31m    _converter._WARN = False\u001b[0m\n",
      "\u001b[0;31mNameError\u001b[0m\u001b[0;31m:\u001b[0m name '_converter' is not defined\n"
     ]
    }
   ],
   "source": [
    "df.plot()"
   ]
  },
  {
   "cell_type": "markdown",
   "metadata": {},
   "source": [
    "When running a simulation with python from a start.py simulation.graphs() displays all recorded data. You can also use the @gui decorator to ship abce as an interactive web-app."
   ]
  },
  {
   "cell_type": "markdown",
   "metadata": {},
   "source": [
    "# Communication between Simulation and Agents"
   ]
  },
  {
   "cell_type": "code",
   "execution_count": null,
   "metadata": {},
   "outputs": [],
   "source": [
    "simulation = abce.Simulation()"
   ]
  },
  {
   "cell_type": "code",
   "execution_count": null,
   "metadata": {},
   "outputs": [],
   "source": [
    "class Communicator(abce.Agent):\n",
    "    def report_my_name(self):\n",
    "        return self.name\n",
    "    \n",
    "    def do_as_told(self, time, text):\n",
    "        print(\"it is %i o'clock and I have to say %s\" % (time, text))"
   ]
  },
  {
   "cell_type": "code",
   "execution_count": null,
   "metadata": {},
   "outputs": [],
   "source": [
    "communicators = simulation.build_agents(Communicator, 'communicator', number=3)"
   ]
  },
  {
   "cell_type": "code",
   "execution_count": null,
   "metadata": {},
   "outputs": [],
   "source": [
    "for time in range(3):\n",
    "    simulation.advance_round(time)\n",
    "    communicators.report_my_name()\n",
    "    communicators.do_as_told(time=time, text=\"Right says fred\")\n",
    "    \n",
    "    "
   ]
  },
  {
   "cell_type": "markdown",
   "metadata": {},
   "source": [
    "One caviat is that **only keyword arguments** work."
   ]
  }
 ],
 "metadata": {
  "kernelspec": {
   "display_name": "Python 3",
   "language": "python",
   "name": "python3"
  },
  "language_info": {
   "codemirror_mode": {
    "name": "ipython",
    "version": 3
   },
   "file_extension": ".py",
   "mimetype": "text/x-python",
   "name": "python",
   "nbconvert_exporter": "python",
   "pygments_lexer": "ipython3",
   "version": "3.6.5"
  }
 },
 "nbformat": 4,
 "nbformat_minor": 2
}
