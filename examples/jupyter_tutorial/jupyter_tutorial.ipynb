{
 "cells": [
  {
   "cell_type": "markdown",
   "metadata": {},
   "source": [
    "# Interactive jupyter / IPython notebook Tutorial"
   ]
  },
  {
   "cell_type": "markdown",
   "metadata": {},
   "source": [
    "This tutorial works on jupyter notebook. Please download examples from here: https://github.com/AB-CE/examples and load the jupyter_tutorial by changing in the `examples/jupyter_tutorial` folder and typing `jupyter notebook jupyter_tutorial.ipynb`. Then you can execute the notebook cell by cell and observe ABCE at work."
   ]
  },
  {
   "cell_type": "code",
   "execution_count": 1,
   "metadata": {},
   "outputs": [
    {
     "name": "stderr",
     "output_type": "stream",
     "text": [
      "/Library/Frameworks/Python.framework/Versions/3.6/lib/python3.6/site-packages/bokeh/util/deprecation.py:34: BokehDeprecationWarning: \n",
      "The bokeh.charts API has moved to a separate 'bkcharts' package.\n",
      "\n",
      "This compatibility shim will remain until Bokeh 1.0 is released.\n",
      "After that, if you want to use this API you will have to install\n",
      "the bkcharts package explicitly.\n",
      "\n",
      "  warn(message)\n"
     ]
    }
   ],
   "source": [
    "import abce"
   ]
  },
  {
   "cell_type": "code",
   "execution_count": 2,
   "metadata": {
    "collapsed": true
   },
   "outputs": [],
   "source": [
    "simulation = abce.Simulation(name='ipythonsimulation', processes=1)"
   ]
  },
  {
   "cell_type": "markdown",
   "metadata": {},
   "source": [
    "## Creating the Agent\n",
    "We create a simple agent and intialize it. An agent is an object that has propeties and does things. In python that is a class. We create an agent that has a name, knows the world size and can say his name. \n",
    "\n",
    "The agent needs to inherit from abce.Agents. *The `__init__` function should not be overwritten, instead create an `init` function*. The init function will be called during initialisation.\n",
    "The agents gets two parameters. All agents get the parameters we will specify in the next round. From agent_parameters the agents get only agent_parameters[id], where id is the number of the agent.\n",
    "Agents have for now only one function. They can say their name."
   ]
  },
  {
   "cell_type": "code",
   "execution_count": 3,
   "metadata": {
    "collapsed": true
   },
   "outputs": [],
   "source": [
    "class Agent(abce.Agent):\n",
    "    def init(self, parameters, agent_parameter):\n",
    "        self.family_name = agent_parameter\n",
    "        self.world_size = parameters['world_size']\n",
    "    def say(self):\n",
    "        print(\"hello I am %s my id %i and my group is '%s', it is the %i round\" % (self.family_name, self.id, self.group, self.round))"
   ]
  },
  {
   "cell_type": "markdown",
   "metadata": {},
   "source": [
    "From the abstract agent, we create four concrete agents."
   ]
  },
  {
   "cell_type": "code",
   "execution_count": 4,
   "metadata": {
    "collapsed": true
   },
   "outputs": [],
   "source": [
    "agents = simulation.build_agents(Agent, 'agent', \n",
    "                                parameters={\"world_size\": 10}, \n",
    "                                agent_parameters=['fred', 'astaire', 'altair', 'deurich'])"
   ]
  },
  {
   "cell_type": "markdown",
   "metadata": {},
   "source": [
    "`agents` allows you to call each agents in the agents group. Each agent in this group has a group name, which is 'agent' and an id. Further we give each of the agents a parameter a family_name.\n",
    "We can now run the simulation and let all agents say their name:"
   ]
  },
  {
   "cell_type": "code",
   "execution_count": 5,
   "metadata": {},
   "outputs": [
    {
     "name": "stdout",
     "output_type": "stream",
     "text": [
      "\r",
      "Round0\n",
      "hello I am fred my id 0 and my group is 'agent', it is the 0 round\n",
      "hello I am astaire my id 1 and my group is 'agent', it is the 0 round\n",
      "hello I am altair my id 2 and my group is 'agent', it is the 0 round\n",
      "hello I am deurich my id 3 and my group is 'agent', it is the 0 round\n",
      "\r",
      "Round1\n",
      "hello I am fred my id 0 and my group is 'agent', it is the 1 round\n",
      "hello I am astaire my id 1 and my group is 'agent', it is the 1 round\n",
      "hello I am altair my id 2 and my group is 'agent', it is the 1 round\n",
      "hello I am deurich my id 3 and my group is 'agent', it is the 1 round\n",
      "\r",
      "Round2\n",
      "hello I am fred my id 0 and my group is 'agent', it is the 2 round\n",
      "hello I am astaire my id 1 and my group is 'agent', it is the 2 round\n",
      "hello I am altair my id 2 and my group is 'agent', it is the 2 round\n",
      "hello I am deurich my id 3 and my group is 'agent', it is the 2 round\n",
      "\r",
      "Round3\n",
      "hello I am fred my id 0 and my group is 'agent', it is the 3 round\n",
      "hello I am astaire my id 1 and my group is 'agent', it is the 3 round\n",
      "hello I am altair my id 2 and my group is 'agent', it is the 3 round\n",
      "hello I am deurich my id 3 and my group is 'agent', it is the 3 round\n",
      "\r",
      "Round4\n",
      "hello I am fred my id 0 and my group is 'agent', it is the 4 round\n",
      "hello I am astaire my id 1 and my group is 'agent', it is the 4 round\n",
      "hello I am altair my id 2 and my group is 'agent', it is the 4 round\n",
      "hello I am deurich my id 3 and my group is 'agent', it is the 4 round\n"
     ]
    }
   ],
   "source": [
    "for r in range(5):\n",
    "    simulation.advance_round(r)\n",
    "    agents.say()"
   ]
  },
  {
   "cell_type": "markdown",
   "metadata": {},
   "source": [
    "It is necessary to tell the simulation when a new round starts. The parameter can be any representation of time."
   ]
  },
  {
   "cell_type": "markdown",
   "metadata": {},
   "source": [
    "## Giving a Good\n",
    "ABCE provide goods. Goods are things that can be given, sold or transformed.\n",
    "We create 5 agents, the first one has a balls the agents pass the ball around."
   ]
  },
  {
   "cell_type": "code",
   "execution_count": 6,
   "metadata": {
    "collapsed": true
   },
   "outputs": [],
   "source": [
    "class Kid(abce.Agent):\n",
    "    def init(self, parameters, agent_parameters):\n",
    "        self.num_kids = parameters['num_kids']\n",
    "        if self.id == 0:\n",
    "            self.create('ball', 1)\n",
    "        \n",
    "    def whether_I_have_the_ball(self):\n",
    "        if self['ball'] > 0:\n",
    "            print('*', end=\"\", flush=True)\n",
    "        else:\n",
    "            print('.', end=\"\", flush=True)\n",
    "            \n",
    "    def give_the_ball_to_the_next_kid(self):\n",
    "        next_kid = (self.id + 1) % self.num_kids  # the id of the next kid, if I am the last the first kid\n",
    "        if self['ball'] >= 1:\n",
    "            self.give(('kid', next_kid), good='ball', quantity=1)\n",
    "            \n",
    "    \n",
    "        "
   ]
  },
  {
   "cell_type": "markdown",
   "metadata": {},
   "source": [
    "self.create, creates an object. self.possession, checks how much of one object an agent has. self.give, gives an object to another agent, specied by its group name and its id."
   ]
  },
  {
   "cell_type": "code",
   "execution_count": 7,
   "metadata": {
    "collapsed": true
   },
   "outputs": [],
   "source": [
    "num_kids = 5"
   ]
  },
  {
   "cell_type": "code",
   "execution_count": 8,
   "metadata": {
    "collapsed": true
   },
   "outputs": [],
   "source": [
    "simulation = abce.Simulation(name='ipythonsimulation', processes=1)"
   ]
  },
  {
   "cell_type": "code",
   "execution_count": 9,
   "metadata": {
    "collapsed": true
   },
   "outputs": [],
   "source": [
    "kids = simulation.build_agents(Kid, 'kid', number=num_kids,\n",
    "                                parameters={\"num_kids\": num_kids}) \n",
    "                            "
   ]
  },
  {
   "cell_type": "markdown",
   "metadata": {},
   "source": [
    "When agent_parameters is not specified the numer of agents to be created needs to be spezified"
   ]
  },
  {
   "cell_type": "code",
   "execution_count": 10,
   "metadata": {},
   "outputs": [
    {
     "name": "stdout",
     "output_type": "stream",
     "text": [
      "Round0\n",
      "*....\n",
      "Round1\n",
      ".*...\n",
      "Round2\n",
      "..*..\n",
      "Round3\n",
      "...*.\n",
      "Round4\n",
      "....*\n",
      "Round5\n",
      "*....\n",
      "Round6\n",
      ".*...\n"
     ]
    }
   ],
   "source": [
    "for r in range(7):\n",
    "    simulation.advance_round(r)\n",
    "    kids.whether_I_have_the_ball()\n",
    "    print()\n",
    "    kids.give_the_ball_to_the_next_kid()"
   ]
  },
  {
   "cell_type": "markdown",
   "metadata": {},
   "source": [
    "## Trade"
   ]
  },
  {
   "cell_type": "code",
   "execution_count": 11,
   "metadata": {
    "collapsed": true
   },
   "outputs": [],
   "source": [
    "from random import randrange"
   ]
  },
  {
   "cell_type": "markdown",
   "metadata": {},
   "source": [
    "Well in every school yard we have a drug dealer."
   ]
  },
  {
   "cell_type": "code",
   "execution_count": 12,
   "metadata": {
    "collapsed": true
   },
   "outputs": [],
   "source": [
    "class NewKid(abce.Agent):\n",
    "    def init(self, parameters, agent_parameters):\n",
    "        self.num_dealers = parameters['num_dealers']\n",
    "        self.create('money', 100)  # don't we all wish you'd this function in real live?\n",
    "        \n",
    "    def buy_drugs(self):\n",
    "        drug_dealer_id = randrange(self.num_dealers)\n",
    "        self.buy(('drug_dealer', drug_dealer_id), good='drugs', quantity=1, price=10)\n",
    "    \n",
    "    def print_possessions(self):\n",
    "        print('    ' + self.group + str(dict(self.possessions())))\n",
    "        \n",
    "    "
   ]
  },
  {
   "cell_type": "markdown",
   "metadata": {},
   "source": [
    "The new kids, approach a random drug dealer and offer him 10 bucks."
   ]
  },
  {
   "cell_type": "code",
   "execution_count": 13,
   "metadata": {
    "collapsed": true
   },
   "outputs": [],
   "source": [
    "class DrugDealer(abce.Agent):\n",
    "    def init(self, parameters, agent_parameters):\n",
    "        self.create('drugs', 1)\n",
    "        \n",
    "    def sell_to_customers(self):\n",
    "        for offer in self.get_offers('drugs'):\n",
    "            if offer.price >= 10 and self['drugs'] > 1:\n",
    "                self.accept(offer)\n",
    "    \n",
    "    def print_possessions(self):\n",
    "        print('    ' + self.group + str(dict(self.possessions())))"
   ]
  },
  {
   "cell_type": "markdown",
   "metadata": {},
   "source": [
    "Drug dealer look at all the sell offers they get and decide to sell only to those kids that are willing to give them at least 10 dollars."
   ]
  },
  {
   "cell_type": "code",
   "execution_count": 14,
   "metadata": {
    "collapsed": true
   },
   "outputs": [],
   "source": [
    "simulation_parameters={'num_dealers': 1, 'num_customers': 1, 'rounds': 2}"
   ]
  },
  {
   "cell_type": "code",
   "execution_count": 15,
   "metadata": {
    "collapsed": true
   },
   "outputs": [],
   "source": [
    "simulation = abce.Simulation(name='school_yard', processes=1)"
   ]
  },
  {
   "cell_type": "code",
   "execution_count": 16,
   "metadata": {
    "collapsed": true
   },
   "outputs": [],
   "source": [
    "drug_dealers = simulation.build_agents(DrugDealer, 'drug_dealer', number=simulation_parameters['num_dealers'])"
   ]
  },
  {
   "cell_type": "code",
   "execution_count": 17,
   "metadata": {
    "collapsed": true
   },
   "outputs": [],
   "source": [
    "customers = simulation.build_agents(NewKid, 'customer', number=simulation_parameters['num_customers'], parameters=simulation_parameters)"
   ]
  },
  {
   "cell_type": "markdown",
   "metadata": {},
   "source": [
    "builds 1 drug dealer and one customer."
   ]
  },
  {
   "cell_type": "code",
   "execution_count": 18,
   "metadata": {
    "collapsed": true
   },
   "outputs": [],
   "source": [
    "kids = drug_dealers + customers"
   ]
  },
  {
   "cell_type": "markdown",
   "metadata": {},
   "source": [
    "Groups of agents can be merged to 'super' groups. We will print the amount of drugs and money all kids have for each of the two kids"
   ]
  },
  {
   "cell_type": "code",
   "execution_count": 19,
   "metadata": {},
   "outputs": [
    {
     "name": "stdout",
     "output_type": "stream",
     "text": [
      "\r",
      "Round0\n",
      "Customer offers 10 dollar:\n",
      "    drug_dealer{'money': 0, 'drugs': 1.0}\n",
      "    customer{'money': 90.0}\n",
      "Drug Dealer accepts or rejects the offer:\n",
      "    drug_dealer{'money': 0, 'drugs': 1.0}\n",
      "    customer{'money': 100.0}\n",
      "\n",
      "\r",
      "Round1\n",
      "Customer offers 10 dollar:\n",
      "    drug_dealer{'money': 0, 'drugs': 1.0}\n",
      "    customer{'money': 90.0}\n",
      "Drug Dealer accepts or rejects the offer:\n",
      "    drug_dealer{'money': 0, 'drugs': 1.0}\n",
      "    customer{'money': 100.0}\n",
      "\n"
     ]
    }
   ],
   "source": [
    "for r in range(simulation_parameters['rounds']):\n",
    "    simulation.advance_round(r)\n",
    "    print('Customer offers 10 dollar:')\n",
    "    customers.buy_drugs()\n",
    "    kids.print_possessions()\n",
    "    print('Drug Dealer accepts or rejects the offer:')\n",
    "    drug_dealers.sell_to_customers()\n",
    "    kids.print_possessions()\n",
    "    print()"
   ]
  },
  {
   "cell_type": "markdown",
   "metadata": {},
   "source": [
    "When looking at round one one can see that after the customer offered 10 dollars, the 10 dollars are not available to him util the deal has either been accepted or rejected. After the drug dealer accepts the offer in the 0 round. The money is transfered to the drug dealer and the drugs to the customer.\n",
    "\n",
    "In round 1, where the drug dealer runs out of drugs the 10 dollars go back to the customer.\n"
   ]
  },
  {
   "cell_type": "markdown",
   "metadata": {},
   "source": [
    "## Lets capture data\n"
   ]
  },
  {
   "cell_type": "markdown",
   "metadata": {},
   "source": [
    "There are three ways of capturing data. `aggregate` and `panel` collect data from a specified group at a specified point of time. This has the advantage that there is no logging code in the agent class. `self.log('name', value)` saves a value under a certain name."
   ]
  },
  {
   "cell_type": "code",
   "execution_count": 20,
   "metadata": {
    "collapsed": true
   },
   "outputs": [],
   "source": [
    "from math import sin\n",
    "\n",
    "class DataDealer(abce.Agent):\n",
    "    def init(self, simulation_parameters, agent_parameters):\n",
    "        self.count = 0\n",
    "        self.create('money', 0)\n",
    "\n",
    "    def counting(self):\n",
    "        self.count += 1\n",
    "        self.curve = sin(self.count / 100)\n",
    "        self.create('money', self.curve * self.id)\n",
    "        \n",
    "        "
   ]
  },
  {
   "cell_type": "code",
   "execution_count": 21,
   "metadata": {
    "collapsed": true
   },
   "outputs": [],
   "source": [
    "simulation = abce.Simulation(name='gatherdata', processes=1)"
   ]
  },
  {
   "cell_type": "markdown",
   "metadata": {},
   "source": [
    "It is specified which agents group collects which variables and possessions."
   ]
  },
  {
   "cell_type": "code",
   "execution_count": 22,
   "metadata": {
    "collapsed": true
   },
   "outputs": [],
   "source": [
    "datadealers = simulation.build_agents(DataDealer, 'datadealer', number=10)"
   ]
  },
  {
   "cell_type": "markdown",
   "metadata": {},
   "source": [
    "Every round the groups need to be instructed to collect the according data. **simulation.finalize()** must be called after the simulation, to write the data! Otherwise the program hangs."
   ]
  },
  {
   "cell_type": "code",
   "execution_count": 23,
   "metadata": {},
   "outputs": [
    {
     "name": "stdout",
     "output_type": "stream",
     "text": [
      "Round0\n",
      "Round1\n",
      "Round2\n",
      "Round3\n",
      "Round4\n",
      "Round5\n",
      "Round6\n",
      "Round7\n",
      "Round8\n",
      "Round9\n",
      "Round10\n",
      "Round11\n",
      "Round12\n",
      "Round13\n",
      "Round14\n",
      "Round15\n",
      "Round16\n",
      "\n",
      "time only simulation  14.15\n",
      "time with data  14.20\n",
      "{\n",
      "    \"name\": \"ipythonsimulation\",\n",
      "    \"random_seed\": 1504609530.4995909,\n",
      "    \"num_kids\": 5\n",
      "}\n",
      "Round17\n",
      "Round18\n",
      "Round19\n",
      "Round20\n",
      "Round21\n",
      "Round22\n",
      "Round23\n",
      "Round24\n",
      "Round25\n",
      "Round26\n",
      "Round27\n",
      "Round28\n",
      "Round29\n",
      "Round30\n",
      "Round31\n",
      "Round32\n",
      "Round33\n",
      "Round34\n",
      "Round35\n",
      "Round36\n",
      "Round37\n",
      "Round38\n",
      "Round39\n",
      "Round40\n",
      "Round41\n",
      "Round42\n",
      "Round43\n",
      "Round44\n",
      "Round45\n",
      "Round46\n",
      "Round47\n",
      "Round48\n",
      "Round49\n",
      "Round50\n",
      "Round51\n",
      "Round52\n",
      "Round53\n",
      "Round54\n",
      "Round55\n",
      "Round56\n",
      "Round57\n",
      "Round58\n",
      "Round59\n",
      "Round60\n",
      "Round61\n",
      "Round62\n",
      "Round63\n",
      "Round64\n",
      "Round65\n",
      "Round66\n",
      "Round67\n",
      "Round68\n",
      "Round69\n",
      "Round70\n",
      "Round71\n",
      "Round72\n",
      "Round73\n",
      "Round74\n",
      "Round75\n",
      "Round76\n",
      "Round77\n",
      "Round78\n",
      "Round79\n",
      "Round80\n",
      "Round81\n",
      "Round82\n",
      "Round83\n",
      "Round84\n",
      "Round85\n",
      "Round86\n",
      "Round87\n",
      "Round88\n",
      "Round89\n",
      "Round90\n",
      "Round91\n",
      "Round92\n",
      "Round93\n",
      "Round94\n",
      "Round95\n",
      "Round96\n",
      "Round97\n",
      "Round98\n",
      "Round99\n",
      "\n",
      "time only simulation   2.72\n",
      "time with data   2.83\n",
      "{\n",
      "    \"name\": \"gatherdata\",\n",
      "    \"random_seed\": 1504609542.044312\n",
      "}\n"
     ]
    }
   ],
   "source": [
    "\n",
    "for r in range(100):\n",
    "    simulation.advance_round(r)\n",
    "    datadealers.counting()\n",
    "    datadealers.agg_log(variables=['count'])\n",
    "    datadealers.panel_log(possessions=['money'], variables=['curve'])\n",
    "simulation.finalize()    \n",
    "        "
   ]
  },
  {
   "cell_type": "markdown",
   "metadata": {},
   "source": [
    "We can find the directory of the simulation data by using the `simulation.path` property"
   ]
  },
  {
   "cell_type": "code",
   "execution_count": 24,
   "metadata": {},
   "outputs": [
    {
     "name": "stdout",
     "output_type": "stream",
     "text": [
      "/Users/taghawi/Dropbox/workspace/abce_examples/examples/jupyter_tutorial/result/gatherdata_2017-09-05_08-05\n"
     ]
    }
   ],
   "source": [
    "print(simulation.path)"
   ]
  },
  {
   "cell_type": "markdown",
   "metadata": {},
   "source": [
    "In that directory are the data files and a describtion.txt"
   ]
  },
  {
   "cell_type": "code",
   "execution_count": 25,
   "metadata": {},
   "outputs": [
    {
     "data": {
      "text/plain": [
       "['aggregate_datadealer.csv',\n",
       " 'aggregated_datadealer.csv',\n",
       " 'description.txt',\n",
       " 'panel_datadealer.csv']"
      ]
     },
     "execution_count": 25,
     "metadata": {},
     "output_type": "execute_result"
    }
   ],
   "source": [
    "import os\n",
    "os.listdir(simulation.path)"
   ]
  },
  {
   "cell_type": "markdown",
   "metadata": {},
   "source": [
    "## Using statistical software"
   ]
  },
  {
   "cell_type": "code",
   "execution_count": 26,
   "metadata": {
    "collapsed": true
   },
   "outputs": [],
   "source": [
    "import pandas as pd"
   ]
  },
  {
   "cell_type": "code",
   "execution_count": 27,
   "metadata": {
    "collapsed": true
   },
   "outputs": [],
   "source": [
    "%matplotlib inline\n"
   ]
  },
  {
   "cell_type": "code",
   "execution_count": 28,
   "metadata": {
    "collapsed": true
   },
   "outputs": [],
   "source": [
    "df = pd.read_csv(simulation.path + '/panel_datadealer.csv')"
   ]
  },
  {
   "cell_type": "code",
   "execution_count": 29,
   "metadata": {},
   "outputs": [
    {
     "data": {
      "text/html": [
       "<div>\n",
       "<style>\n",
       "    .dataframe thead tr:only-child th {\n",
       "        text-align: right;\n",
       "    }\n",
       "\n",
       "    .dataframe thead th {\n",
       "        text-align: left;\n",
       "    }\n",
       "\n",
       "    .dataframe tbody tr th {\n",
       "        vertical-align: top;\n",
       "    }\n",
       "</style>\n",
       "<table border=\"1\" class=\"dataframe\">\n",
       "  <thead>\n",
       "    <tr style=\"text-align: right;\">\n",
       "      <th></th>\n",
       "      <th>index</th>\n",
       "      <th>curve</th>\n",
       "      <th>money</th>\n",
       "      <th>round</th>\n",
       "      <th>id</th>\n",
       "    </tr>\n",
       "  </thead>\n",
       "  <tbody>\n",
       "    <tr>\n",
       "      <th>0</th>\n",
       "      <td>1</td>\n",
       "      <td>0.010000</td>\n",
       "      <td>0.000000</td>\n",
       "      <td>0</td>\n",
       "      <td>0</td>\n",
       "    </tr>\n",
       "    <tr>\n",
       "      <th>1</th>\n",
       "      <td>2</td>\n",
       "      <td>0.010000</td>\n",
       "      <td>0.010000</td>\n",
       "      <td>0</td>\n",
       "      <td>1</td>\n",
       "    </tr>\n",
       "    <tr>\n",
       "      <th>2</th>\n",
       "      <td>3</td>\n",
       "      <td>0.010000</td>\n",
       "      <td>0.020000</td>\n",
       "      <td>0</td>\n",
       "      <td>2</td>\n",
       "    </tr>\n",
       "    <tr>\n",
       "      <th>3</th>\n",
       "      <td>4</td>\n",
       "      <td>0.010000</td>\n",
       "      <td>0.030000</td>\n",
       "      <td>0</td>\n",
       "      <td>3</td>\n",
       "    </tr>\n",
       "    <tr>\n",
       "      <th>4</th>\n",
       "      <td>5</td>\n",
       "      <td>0.010000</td>\n",
       "      <td>0.039999</td>\n",
       "      <td>0</td>\n",
       "      <td>4</td>\n",
       "    </tr>\n",
       "    <tr>\n",
       "      <th>5</th>\n",
       "      <td>6</td>\n",
       "      <td>0.010000</td>\n",
       "      <td>0.049999</td>\n",
       "      <td>0</td>\n",
       "      <td>5</td>\n",
       "    </tr>\n",
       "    <tr>\n",
       "      <th>6</th>\n",
       "      <td>7</td>\n",
       "      <td>0.010000</td>\n",
       "      <td>0.059999</td>\n",
       "      <td>0</td>\n",
       "      <td>6</td>\n",
       "    </tr>\n",
       "    <tr>\n",
       "      <th>7</th>\n",
       "      <td>8</td>\n",
       "      <td>0.010000</td>\n",
       "      <td>0.069999</td>\n",
       "      <td>0</td>\n",
       "      <td>7</td>\n",
       "    </tr>\n",
       "    <tr>\n",
       "      <th>8</th>\n",
       "      <td>9</td>\n",
       "      <td>0.010000</td>\n",
       "      <td>0.079999</td>\n",
       "      <td>0</td>\n",
       "      <td>8</td>\n",
       "    </tr>\n",
       "    <tr>\n",
       "      <th>9</th>\n",
       "      <td>10</td>\n",
       "      <td>0.010000</td>\n",
       "      <td>0.089999</td>\n",
       "      <td>0</td>\n",
       "      <td>9</td>\n",
       "    </tr>\n",
       "    <tr>\n",
       "      <th>10</th>\n",
       "      <td>11</td>\n",
       "      <td>0.019999</td>\n",
       "      <td>0.000000</td>\n",
       "      <td>1</td>\n",
       "      <td>0</td>\n",
       "    </tr>\n",
       "    <tr>\n",
       "      <th>11</th>\n",
       "      <td>12</td>\n",
       "      <td>0.019999</td>\n",
       "      <td>0.029999</td>\n",
       "      <td>1</td>\n",
       "      <td>1</td>\n",
       "    </tr>\n",
       "    <tr>\n",
       "      <th>12</th>\n",
       "      <td>13</td>\n",
       "      <td>0.019999</td>\n",
       "      <td>0.059997</td>\n",
       "      <td>1</td>\n",
       "      <td>2</td>\n",
       "    </tr>\n",
       "    <tr>\n",
       "      <th>13</th>\n",
       "      <td>14</td>\n",
       "      <td>0.019999</td>\n",
       "      <td>0.089996</td>\n",
       "      <td>1</td>\n",
       "      <td>3</td>\n",
       "    </tr>\n",
       "    <tr>\n",
       "      <th>14</th>\n",
       "      <td>15</td>\n",
       "      <td>0.019999</td>\n",
       "      <td>0.119994</td>\n",
       "      <td>1</td>\n",
       "      <td>4</td>\n",
       "    </tr>\n",
       "    <tr>\n",
       "      <th>15</th>\n",
       "      <td>16</td>\n",
       "      <td>0.019999</td>\n",
       "      <td>0.149993</td>\n",
       "      <td>1</td>\n",
       "      <td>5</td>\n",
       "    </tr>\n",
       "    <tr>\n",
       "      <th>16</th>\n",
       "      <td>17</td>\n",
       "      <td>0.019999</td>\n",
       "      <td>0.179991</td>\n",
       "      <td>1</td>\n",
       "      <td>6</td>\n",
       "    </tr>\n",
       "    <tr>\n",
       "      <th>17</th>\n",
       "      <td>18</td>\n",
       "      <td>0.019999</td>\n",
       "      <td>0.209990</td>\n",
       "      <td>1</td>\n",
       "      <td>7</td>\n",
       "    </tr>\n",
       "    <tr>\n",
       "      <th>18</th>\n",
       "      <td>19</td>\n",
       "      <td>0.019999</td>\n",
       "      <td>0.239988</td>\n",
       "      <td>1</td>\n",
       "      <td>8</td>\n",
       "    </tr>\n",
       "    <tr>\n",
       "      <th>19</th>\n",
       "      <td>20</td>\n",
       "      <td>0.019999</td>\n",
       "      <td>0.269987</td>\n",
       "      <td>1</td>\n",
       "      <td>9</td>\n",
       "    </tr>\n",
       "  </tbody>\n",
       "</table>\n",
       "</div>"
      ],
      "text/plain": [
       "    index     curve     money  round  id\n",
       "0       1  0.010000  0.000000      0   0\n",
       "1       2  0.010000  0.010000      0   1\n",
       "2       3  0.010000  0.020000      0   2\n",
       "3       4  0.010000  0.030000      0   3\n",
       "4       5  0.010000  0.039999      0   4\n",
       "5       6  0.010000  0.049999      0   5\n",
       "6       7  0.010000  0.059999      0   6\n",
       "7       8  0.010000  0.069999      0   7\n",
       "8       9  0.010000  0.079999      0   8\n",
       "9      10  0.010000  0.089999      0   9\n",
       "10     11  0.019999  0.000000      1   0\n",
       "11     12  0.019999  0.029999      1   1\n",
       "12     13  0.019999  0.059997      1   2\n",
       "13     14  0.019999  0.089996      1   3\n",
       "14     15  0.019999  0.119994      1   4\n",
       "15     16  0.019999  0.149993      1   5\n",
       "16     17  0.019999  0.179991      1   6\n",
       "17     18  0.019999  0.209990      1   7\n",
       "18     19  0.019999  0.239988      1   8\n",
       "19     20  0.019999  0.269987      1   9"
      ]
     },
     "execution_count": 29,
     "metadata": {},
     "output_type": "execute_result"
    }
   ],
   "source": [
    "df.head(20)"
   ]
  },
  {
   "cell_type": "code",
   "execution_count": 30,
   "metadata": {},
   "outputs": [
    {
     "data": {
      "text/plain": [
       "<matplotlib.axes._subplots.AxesSubplot at 0x10e723080>"
      ]
     },
     "execution_count": 30,
     "metadata": {},
     "output_type": "execute_result"
    },
    {
     "data": {
      "image/png": "[encoded data removed]",
      "text/plain": [
       "<matplotlib.figure.Figure at 0x10e723f28>"
      ]
     },
     "metadata": {},
     "output_type": "display_data"
    }
   ],
   "source": [
    "df.pivot(index='round', columns='id', values='money').plot()\n"
   ]
  },
  {
   "cell_type": "markdown",
   "metadata": {},
   "source": [
    "When running a simulation with python from a start.py simulation.graphs() displays all recorded data. You can also use the @gui decorator to ship abce as an interactive web-app."
   ]
  },
  {
   "cell_type": "markdown",
   "metadata": {},
   "source": [
    "# Communication between Simulation and Agents"
   ]
  },
  {
   "cell_type": "code",
   "execution_count": 51,
   "metadata": {},
   "outputs": [],
   "source": [
    "simulation = abce.Simulation()"
   ]
  },
  {
   "cell_type": "code",
   "execution_count": 52,
   "metadata": {},
   "outputs": [],
   "source": [
    "class Communicator(abce.Agent):\n",
    "    def report_my_name(self):\n",
    "        return self.name\n",
    "    \n",
    "    def do_as_told(self, time, text):\n",
    "        print(\"it is %i o'clock and I have to say %s\" % (time, text))"
   ]
  },
  {
   "cell_type": "code",
   "execution_count": 53,
   "metadata": {},
   "outputs": [],
   "source": [
    "communicators = simulation.build_agents(Communicator, 'communicator', number=3)"
   ]
  },
  {
   "cell_type": "code",
   "execution_count": 54,
   "metadata": {},
   "outputs": [
    {
     "name": "stdout",
     "output_type": "stream",
     "text": [
      "\r",
      "Round0\n",
      "it is 0 o'clock and I have to say Right says fred\n",
      "it is 0 o'clock and I have to say Right says fred\n",
      "it is 0 o'clock and I have to say Right says fred\n",
      "\r",
      "Round1\n",
      "it is 1 o'clock and I have to say Right says fred\n",
      "it is 1 o'clock and I have to say Right says fred\n",
      "it is 1 o'clock and I have to say Right says fred\n",
      "\r",
      "Round2\n",
      "it is 2 o'clock and I have to say Right says fred\n",
      "it is 2 o'clock and I have to say Right says fred\n",
      "it is 2 o'clock and I have to say Right says fred\n"
     ]
    }
   ],
   "source": [
    "for time in range(3):\n",
    "    simulation.advance_round(time)\n",
    "    communicators.report_my_name()\n",
    "    communicators.do_as_told(time=time, text=\"Right says fred\")\n",
    "    \n",
    "    "
   ]
  },
  {
   "cell_type": "markdown",
   "metadata": {},
   "source": [
    "One caviat is that **only keyword arguments** work."
   ]
  }
 ],
 "metadata": {
  "kernelspec": {
   "display_name": "Python 3",
   "language": "python",
   "name": "python3"
  },
  "language_info": {
   "codemirror_mode": {
    "name": "ipython",
    "version": 3
   },
   "file_extension": ".py",
   "mimetype": "text/x-python",
   "name": "python",
   "nbconvert_exporter": "python",
   "pygments_lexer": "ipython3",
   "version": "3.6.1"
  }
 },
 "nbformat": 4,
 "nbformat_minor": 2
}
